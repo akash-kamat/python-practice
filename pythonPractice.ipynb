{
  "cells": [
    {
      "cell_type": "markdown",
      "metadata": {
        "id": "view-in-github",
        "colab_type": "text"
      },
      "source": [
        "<a href=\"https://colab.research.google.com/github/akash-kamat/python-practice/blob/main/pythonPractice.ipynb\" target=\"_parent\"><img src=\"https://colab.research.google.com/assets/colab-badge.svg\" alt=\"Open In Colab\"/></a>"
      ]
    },
    {
      "cell_type": "markdown",
      "metadata": {
        "id": "tCM2QFyW4dy5"
      },
      "source": [
        "**Python revision** "
      ]
    },
    {
      "cell_type": "markdown",
      "metadata": {
        "id": "Ii8R5mLQQZVb"
      },
      "source": [
        "# 1-**Print all prime number in an interval**"
      ]
    },
    {
      "cell_type": "code",
      "execution_count": null,
      "metadata": {
        "colab": {
          "base_uri": "https://localhost:8080/"
        },
        "id": "NwLgV6-x4bkg",
        "outputId": "53c84a7a-1e56-49d3-8e3e-d45d63471848"
      },
      "outputs": [
        {
          "name": "stdout",
          "output_type": "stream",
          "text": [
            "Enter range: 12\n",
            "1 2 3 5 7 11 "
          ]
        }
      ],
      "source": [
        "#print all prime number in an interval\n",
        "n=int(input(\"Enter range: \"))\n",
        "prime=[]\n",
        "for i in range(1,n):\n",
        "  for j in range(2,i):\n",
        "    if(i%j==0):\n",
        "      break\n",
        "  else:\n",
        "      prime.append(i)\n",
        "    \n",
        "for p in prime:\n",
        "  print(p,end=\" \")\n"
      ]
    },
    {
      "cell_type": "markdown",
      "metadata": {
        "id": "xYx8yy6xQtZb"
      },
      "source": [
        "# sum of squares of n natural numbers"
      ]
    },
    {
      "cell_type": "code",
      "execution_count": null,
      "metadata": {
        "id": "aKmOsc5GAXCd"
      },
      "outputs": [],
      "source": [
        "#sum of squares of n natural numbers\n",
        "n=int(input(\"enter limit: \"))\n",
        "s=0\n",
        "for i in range(1,n+1):\n",
        "  s+=i**2\n",
        "print(s)"
      ]
    },
    {
      "cell_type": "markdown",
      "metadata": {
        "id": "I9wuK7dOQ5Yi"
      },
      "source": [
        "# largest number in the list"
      ]
    },
    {
      "cell_type": "code",
      "execution_count": null,
      "metadata": {
        "id": "ynF-0bmhJeY1"
      },
      "outputs": [],
      "source": [
        "#largest number in the list\n",
        "l = input(\"Enter list elems with space seperation: \")\n",
        "lis=[]\n",
        "for i in l.split(\" \"):\n",
        "  lis.append(int(i))\n",
        "max=lis[0]\n",
        "for j in range(0,len(lis)):\n",
        "  if(lis[j]>max):\n",
        "    max=lis[j]\n",
        "  else:\n",
        "    pass\n",
        "print(max)\n",
        "\n",
        "\n",
        "\n"
      ]
    },
    {
      "cell_type": "markdown",
      "metadata": {
        "id": "Ay3Q4LChBI8K"
      },
      "source": [
        "# Smallest number in a list"
      ]
    },
    {
      "cell_type": "code",
      "execution_count": null,
      "metadata": {
        "colab": {
          "base_uri": "https://localhost:8080/"
        },
        "id": "Mwg7gk12Rbko",
        "outputId": "99099850-6654-4780-cf51-7cbd97d718b0"
      },
      "outputs": [
        {
          "name": "stdout",
          "output_type": "stream",
          "text": [
            "Enter list items space seperated: 123 9 881 12 22\n",
            "9\n"
          ]
        }
      ],
      "source": [
        "#smallest number in a list\n",
        "l=input(\"Enter list items space seperated: \")\n",
        "lis=[]\n",
        "for i in l.split(\" \"):\n",
        "  lis.append(int(i))\n",
        "min=lis[0]\n",
        "for j in range(0,len(lis)):\n",
        "  if(lis[j]<min):\n",
        "    min=lis[j]\n",
        "  else:\n",
        "    pass\n",
        "print(min)"
      ]
    }
  ],
  "metadata": {
    "colab": {
      "collapsed_sections": [],
      "provenance": [],
      "authorship_tag": "ABX9TyMNMva0Taf6s6/AqLYJuew2",
      "include_colab_link": true
    },
    "kernelspec": {
      "display_name": "Python 3",
      "name": "python3"
    },
    "language_info": {
      "name": "python"
    }
  },
  "nbformat": 4,
  "nbformat_minor": 0
}